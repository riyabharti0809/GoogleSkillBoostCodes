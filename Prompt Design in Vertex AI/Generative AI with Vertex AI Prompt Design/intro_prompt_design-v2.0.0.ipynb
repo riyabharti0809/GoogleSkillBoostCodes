{
 "cells": [
  {
   "cell_type": "code",
   "execution_count": 1,
   "metadata": {
    "id": "ur8xi4C7S06n",
    "tags": []
   },
   "outputs": [],
   "source": [
    "# Copyright 2024 Google LLC\n",
    "#\n",
    "# Licensed under the Apache License, Version 2.0 (the \"License\");\n",
    "# you may not use this file except in compliance with the License.\n",
    "# You may obtain a copy of the License at\n",
    "#\n",
    "#     https://www.apache.org/licenses/LICENSE-2.0\n",
    "#\n",
    "# Unless required by applicable law or agreed to in writing, software\n",
    "# distributed under the License is distributed on an \"AS IS\" BASIS,\n",
    "# WITHOUT WARRANTIES OR CONDITIONS OF ANY KIND, either express or implied.\n",
    "# See the License for the specific language governing permissions and\n",
    "# limitations under the License."
   ]
  },
  {
   "cell_type": "markdown",
   "metadata": {
    "id": "JAPoU8Sm5E6e"
   },
   "source": [
    "# Prompt Design - Best Practices\n",
    "\n",
    "<table align=\"left\">\n",
    "  <td style=\"text-align: center\">\n",
    "    <a href=\"https://colab.research.google.com/github/GoogleCloudPlatform/generative-ai/blob/main/gemini/prompts/intro_prompt_design.ipynb\">\n",
    "      <img src=\"https://cloud.google.com/ml-engine/images/colab-logo-32px.png\" alt=\"Google Colaboratory logo\"><br> Open in Colab\n",
    "    </a>\n",
    "  </td>\n",
    "  <td style=\"text-align: center\">\n",
    "    <a href=\"https://console.cloud.google.com/vertex-ai/colab/import/https:%2F%2Fraw.githubusercontent.com%2FGoogleCloudPlatform%2Fgenerative-ai%2Fmain%2Fgemini%2Fprompts%2Fintro_prompt_design.ipynb\">\n",
    "      <img width=\"32px\" src=\"https://lh3.googleusercontent.com/JmcxdQi-qOpctIvWKgPtrzZdJJK-J3sWE1RsfjZNwshCFgE_9fULcNpuXYTilIR2hjwN\" alt=\"Google Cloud Colab Enterprise logo\"><br> Open in Colab Enterprise\n",
    "    </a>\n",
    "  </td>    \n",
    "  <td style=\"text-align: center\">\n",
    "    <a href=\"https://console.cloud.google.com/vertex-ai/workbench/deploy-notebook?download_url=https://raw.githubusercontent.com/GoogleCloudPlatform/generative-ai/main/gemini/prompts/intro_prompt_design.ipynb\">\n",
    "      <img src=\"https://lh3.googleusercontent.com/UiNooY4LUgW_oTvpsNhPpQzsstV5W8F7rYgxgGBD85cWJoLmrOzhVs_ksK_vgx40SHs7jCqkTkCk=e14-rj-sc0xffffff-h130-w32\" alt=\"Vertex AI logo\"><br> Open in Workbench\n",
    "    </a>\n",
    "  </td>\n",
    "  <td style=\"text-align: center\">\n",
    "    <a href=\"https://github.com/GoogleCloudPlatform/generative-ai/blob/main/gemini/prompts/intro_prompt_design.ipynb\">\n",
    "      <img src=\"https://cloud.google.com/ml-engine/images/github-logo-32px.png\" alt=\"GitHub logo\"><br> View on GitHub\n",
    "    </a>\n",
    "  </td>\n",
    "  <td style=\"text-align: center\">\n",
    "    <a href=\"https://goo.gle/4fWHlze\">\n",
    "      <img width=\"32px\" src=\"https://cdn.qwiklabs.com/assets/gcp_cloud-e3a77215f0b8bfa9b3f611c0d2208c7e8708ed31.svg\" alt=\"Google Cloud logo\"><br> Open in  Cloud Skills Boost\n",
    "    </a>\n",
    "  </td>\n",
    "</table>\n",
    "\n",
    "<div style=\"clear: both;\"></div>\n",
    "\n",
    "<b>Share to:</b>\n",
    "\n",
    "<a href=\"https://www.linkedin.com/sharing/share-offsite/?url=https%3A//github.com/GoogleCloudPlatform/generative-ai/blob/main/gemini/prompts/intro_prompt_design.ipynb\" target=\"_blank\">\n",
    "  <img width=\"20px\" src=\"https://upload.wikimedia.org/wikipedia/commons/8/81/LinkedIn_icon.svg\" alt=\"LinkedIn logo\">\n",
    "</a>\n",
    "\n",
    "<a href=\"https://bsky.app/intent/compose?text=https%3A//github.com/GoogleCloudPlatform/generative-ai/blob/main/gemini/prompts/intro_prompt_design.ipynb\" target=\"_blank\">\n",
    "  <img width=\"20px\" src=\"https://upload.wikimedia.org/wikipedia/commons/7/7a/Bluesky_Logo.svg\" alt=\"Bluesky logo\">\n",
    "</a>\n",
    "\n",
    "<a href=\"https://twitter.com/intent/tweet?url=https%3A//github.com/GoogleCloudPlatform/generative-ai/blob/main/gemini/prompts/intro_prompt_design.ipynb\" target=\"_blank\">\n",
    "  <img width=\"20px\" src=\"https://upload.wikimedia.org/wikipedia/commons/5/53/X_logo_2023_original.svg\" alt=\"X logo\">\n",
    "</a>\n",
    "\n",
    "<a href=\"https://reddit.com/submit?url=https%3A//github.com/GoogleCloudPlatform/generative-ai/blob/main/gemini/prompts/intro_prompt_design.ipynb\" target=\"_blank\">\n",
    "  <img width=\"20px\" src=\"https://redditinc.com/hubfs/Reddit%20Inc/Brand/Reddit_Logo.png\" alt=\"Reddit logo\">\n",
    "</a>\n",
    "\n",
    "<a href=\"https://www.facebook.com/sharer/sharer.php?u=https%3A//github.com/GoogleCloudPlatform/generative-ai/blob/main/gemini/prompts/intro_prompt_design.ipynb\" target=\"_blank\">\n",
    "  <img width=\"20px\" src=\"https://upload.wikimedia.org/wikipedia/commons/5/51/Facebook_f_logo_%282019%29.svg\" alt=\"Facebook logo\">\n",
    "</a>            "
   ]
  },
  {
   "cell_type": "markdown",
   "metadata": {
    "id": "84f0f73a0f76"
   },
   "source": [
    "| | |\n",
    "|-|-|\n",
    "|Author(s) | [Polong Lin](https://github.com/polong-lin), [Karl Weinmeister](https://github.com/kweinmeister) |"
   ]
  },
  {
   "cell_type": "markdown",
   "metadata": {
    "id": "tvgnzT1CKxrO"
   },
   "source": [
    "## Overview\n",
    "\n",
    "This notebook covers the essentials of prompt engineering, including some best practices.\n",
    "\n",
    "Learn more about prompt design in the [official documentation](https://cloud.google.com/vertex-ai/docs/generative-ai/text/text-overview).\n",
    "\n",
    "In this notebook, you learn best practices around prompt engineering -- how to design prompts to improve the quality of your responses.\n",
    "\n",
    "This notebook covers the following best practices for prompt engineering:\n",
    "\n",
    "- Be concise\n",
    "- Be specific and well-defined\n",
    "- Ask one task at a time\n",
    "- Turn generative tasks into classification tasks\n",
    "- Improve response quality by including examples"
   ]
  },
  {
   "cell_type": "markdown",
   "metadata": {
    "id": "61RBz8LLbxCR"
   },
   "source": [
    "## Getting Started"
   ]
  },
  {
   "cell_type": "markdown",
   "metadata": {
    "id": "No17Cw5hgx12"
   },
   "source": [
    "### Install Google Gen AI SDK\n"
   ]
  },
  {
   "cell_type": "code",
   "execution_count": 1,
   "metadata": {
    "id": "tFy3H3aPgx12",
    "tags": []
   },
   "outputs": [
    {
     "name": "stdout",
     "output_type": "stream",
     "text": [
      "Note: you may need to restart the kernel to use updated packages.\n"
     ]
    }
   ],
   "source": [
    "%pip install --upgrade --quiet google-genai"
   ]
  },
  {
   "cell_type": "markdown",
   "metadata": {
    "id": "R5Xep4W9lq-Z"
   },
   "source": [
    "### Restart runtime\n",
    "\n",
    "To use the newly installed packages in this Jupyter runtime, you must restart the runtime. You can do this by running the cell below, which will restart the current kernel."
   ]
  },
  {
   "cell_type": "code",
   "execution_count": 2,
   "metadata": {
    "id": "XRvKdaPDTznN",
    "tags": []
   },
   "outputs": [
    {
     "data": {
      "text/plain": [
       "{'status': 'ok', 'restart': True}"
      ]
     },
     "execution_count": 2,
     "metadata": {},
     "output_type": "execute_result"
    }
   ],
   "source": [
    "import IPython\n",
    "\n",
    "app = IPython.Application.instance()\n",
    "app.kernel.do_shutdown(True)"
   ]
  },
  {
   "cell_type": "markdown",
   "metadata": {
    "id": "SbmM4z7FOBpM"
   },
   "source": [
    "<div class=\"alert alert-block alert-warning\">\n",
    "<b>⚠️ The kernel is going to restart. Please wait until it is finished before continuing to the next step. ⚠️</b>\n",
    "</div>\n"
   ]
  },
  {
   "cell_type": "markdown",
   "metadata": {
    "id": "dmWOrTJ3gx13"
   },
   "source": [
    "### Authenticate your notebook environment (Colab only)\n",
    "\n",
    "Authenticate your environment on Google Colab.\n"
   ]
  },
  {
   "cell_type": "code",
   "execution_count": 1,
   "metadata": {
    "id": "NyKGtVQjgx13",
    "tags": []
   },
   "outputs": [],
   "source": [
    "import sys\n",
    "\n",
    "if \"google.colab\" in sys.modules:\n",
    "    from google.colab import auth\n",
    "\n",
    "    auth.authenticate_user()"
   ]
  },
  {
   "cell_type": "markdown",
   "metadata": {
    "id": "06489bd14f16"
   },
   "source": [
    "### Import libraries\n"
   ]
  },
  {
   "cell_type": "code",
   "execution_count": 2,
   "metadata": {
    "id": "154137022fb6",
    "tags": []
   },
   "outputs": [],
   "source": [
    "from IPython.display import Markdown, display\n",
    "from google import genai\n",
    "from google.genai.types import GenerateContentConfig"
   ]
  },
  {
   "cell_type": "markdown",
   "metadata": {
    "id": "DF4l8DTdWgPY"
   },
   "source": [
    "### Set Google Cloud project information and create client\n",
    "\n",
    "To get started using Vertex AI, you must have an existing Google Cloud project and [enable the Vertex AI API](https://console.cloud.google.com/flows/enableapi?apiid=aiplatform.googleapis.com).\n",
    "\n",
    "Learn more about [setting up a project and a development environment](https://cloud.google.com/vertex-ai/docs/start/cloud-environment)."
   ]
  },
  {
   "cell_type": "code",
   "execution_count": 3,
   "metadata": {
    "id": "Nqwi-5ufWp_B",
    "tags": []
   },
   "outputs": [],
   "source": [
    "import os\n",
    "\n",
    "PROJECT_ID = \"qwiklabs-gcp-01-d5fb4663a18a\"  # @param {type: \"string\", placeholder: \"[your-project-id]\", isTemplate: true}\n",
    "if not PROJECT_ID or PROJECT_ID == \"qwiklabs-gcp-01-d5fb4663a18a\":\n",
    "    PROJECT_ID = str(os.environ.get(\"GOOGLE_CLOUD_PROJECT\"))\n",
    "\n",
    "LOCATION = os.environ.get(\"GOOGLE_CLOUD_REGION\", \"us-east4\")"
   ]
  },
  {
   "cell_type": "code",
   "execution_count": 4,
   "metadata": {
    "id": "QqRWdPGmW3NJ",
    "tags": []
   },
   "outputs": [],
   "source": [
    "client = genai.Client(vertexai=True, project=PROJECT_ID, location=LOCATION)"
   ]
  },
  {
   "cell_type": "markdown",
   "metadata": {
    "id": "OnFPpCRtXRl4"
   },
   "source": [
    "### Load model\n",
    "\n",
    "Learn more about all [Gemini models on Vertex AI](https://cloud.google.com/vertex-ai/generative-ai/docs/learn/models#gemini-models)."
   ]
  },
  {
   "cell_type": "code",
   "execution_count": 5,
   "metadata": {
    "id": "IQYu_9SvXQah",
    "tags": []
   },
   "outputs": [],
   "source": [
    "MODEL_ID = \"gemini-2.0-flash-001\"  # @param {type: \"string\"}"
   ]
  },
  {
   "cell_type": "markdown",
   "metadata": {
    "id": "cVOtUNJ5X0PY"
   },
   "source": [
    "## Prompt engineering best practices"
   ]
  },
  {
   "cell_type": "markdown",
   "metadata": {
    "id": "uv_e0fEPX60q"
   },
   "source": [
    "Prompt engineering is all about how to design your prompts so that the response is what you were indeed hoping to see.\n",
    "\n",
    "The idea of using \"unfancy\" prompts is to minimize the noise in your prompt to reduce the possibility of the LLM misinterpreting the intent of the prompt. Below are a few guidelines on how to engineer \"unfancy\" prompts.\n",
    "\n",
    "In this section, you'll cover the following best practices when engineering prompts:\n",
    "\n",
    "* Be concise\n",
    "* Be specific, and well-defined\n",
    "* Ask one task at a time\n",
    "* Improve response quality by including examples\n",
    "* Turn generative tasks to classification tasks to improve safety"
   ]
  },
  {
   "cell_type": "markdown",
   "metadata": {
    "id": "0pY4XX0OX9_Y"
   },
   "source": [
    "### Be concise"
   ]
  },
  {
   "cell_type": "markdown",
   "metadata": {
    "id": "xlRpxyxGYA1K"
   },
   "source": [
    "🛑 Not recommended. The prompt below is unnecessarily verbose."
   ]
  },
  {
   "cell_type": "code",
   "execution_count": 6,
   "metadata": {
    "id": "YKV4G-CfXdbi",
    "tags": []
   },
   "outputs": [
    {
     "data": {
      "text/markdown": [
       "Here are some name ideas for a dried flower shop, playing on different aspects of dried flowers:\n",
       "\n",
       "**Emphasizing the Dried/Preserved Nature:**\n",
       "\n",
       "*   **Everbloom Studio:** Evokes a sense of lasting beauty.\n",
       "*   **The Dried Petal:** Simple, descriptive, and memorable.\n",
       "*   **Lasting Blooms:** Clearly communicates the longevity.\n",
       "*   **Preserved Petals:** Straightforward and emphasizes the preservation process.\n",
       "*   **The Floral Apothecary:** Suggests a curated collection of dried botanical remedies.\n",
       "*   **Botanical Archive:** Implies a collection of preserved botanical specimens.\n",
       "*   **Petrified Petals:** Playful and a bit edgy, hinting at the preservation.\n",
       "\n",
       "**Highlighting the Artistic/Design Aspect:**\n",
       "\n",
       "*   **The Dried Bouquet:** Classic and focuses on the product.\n",
       "*   **Eternal Arrangements:** Emphasizes the lasting nature and artistry.\n",
       "*   **The Still Life Florist:** Connects to the art form of still life painting.\n",
       "*   **The Golden Bloom:** Suggests richness, warmth, and a touch of luxury.\n",
       "*   **Rust & Flora:** Combines a natural texture with the botanical element.\n",
       "*   **Dried & Designed:** Simple and emphasizes the craftsmanship.\n",
       "\n",
       "**Playing on the Rustic/Natural Feel:**\n",
       "\n",
       "*   **The Wildflower Keep:** Suggests gathering and preserving wildflowers.\n",
       "*   **Field & Frame:** Implies a focus on natural, gathered materials.\n",
       "*   **Prairie Posies:** Evokes a sense of natural, untamed beauty.\n",
       "*   **The Harvest Bloom:** Connects to the seasonal aspect of drying flowers.\n",
       "*   **Earthen Flora:** Emphasizes the natural, earthy qualities.\n",
       "\n",
       "**Modern/Trendy:**\n",
       "\n",
       "*   **The Dry Spell:** Playful and modern.\n",
       "*   **Petal Provisions:** Suggests a well-stocked supply of dried flowers.\n",
       "*   **Bloom & Bone:** (If you also sell natural elements like antlers or pods) - Edgy and modern.\n",
       "\n",
       "**Tips for Choosing:**\n",
       "\n",
       "*   **Consider your target audience:** Are you aiming for a high-end clientele or a more casual customer base?\n",
       "*   **Check for availability:** Make sure the name isn't already in use (especially online).\n",
       "*   **Say it out loud:** Ensure the name is easy to pronounce and remember.\n",
       "*   **Think about branding:** Does the name lend itself well to a logo and overall brand aesthetic?\n",
       "\n",
       "I hope this helps! Good luck!\n"
      ],
      "text/plain": [
       "<IPython.core.display.Markdown object>"
      ]
     },
     "metadata": {},
     "output_type": "display_data"
    }
   ],
   "source": [
    "prompt = \"What do you think could be a good name for a flower shop that specializes in selling bouquets of dried flowers more than fresh flowers?\"\n",
    "\n",
    "response = client.models.generate_content(model=MODEL_ID, contents=prompt)\n",
    "display(Markdown(response.text))"
   ]
  },
  {
   "cell_type": "markdown",
   "metadata": {
    "id": "YrJexRHJYnmC"
   },
   "source": [
    "✅ Recommended. The prompt below is to the point and concise."
   ]
  },
  {
   "cell_type": "code",
   "execution_count": 7,
   "metadata": {
    "id": "VHetn9lCYrXB",
    "tags": []
   },
   "outputs": [
    {
     "data": {
      "text/markdown": [
       "Okay, here are some name suggestions for a dried flower shop, playing with different angles like:\n",
       "\n",
       "**Classic & Elegant:**\n",
       "\n",
       "*   The Everlasting Bloom\n",
       "*   Preserved Petals\n",
       "*   The Dried Dahlia\n",
       "*   Eternal Flora\n",
       "*   Golden Harvest Florals\n",
       "*   Timeless Blooms\n",
       "\n",
       "**Modern & Chic:**\n",
       "\n",
       "*   Dried & Dusted\n",
       "*   The Still Life Florist\n",
       "*   Second Bloom\n",
       "*   Rooted & Revived\n",
       "*   Terra & Twine\n",
       "*   Gathered & Dried\n",
       "\n",
       "**Rustic & Natural:**\n",
       "\n",
       "*   The Wildflower Still\n",
       "*   Prairie Dried\n",
       "*   The Dried Stem\n",
       "*   Field & Fade\n",
       "*   Whispering Wilds\n",
       "*   Sunbaked Blooms\n",
       "\n",
       "**Creative & Unique:**\n",
       "\n",
       "*   Petrified Petals\n",
       "*   The Floriography Studio (if you emphasize flower meanings)\n",
       "*   Bloom Alchemy\n",
       "*   The Botanical Cabinet\n",
       "*   Echo Bloom\n",
       "*   The Memory Garden\n",
       "\n",
       "**Location Specific (If Applicable):**\n",
       "\n",
       "*   (Your Town/Region) Dried Flowers\n",
       "*   The (Landmark) Florist (if near a landmark)\n",
       "\n",
       "**Tips for Choosing the Best Name:**\n",
       "\n",
       "*   **Availability:** Check if the name (and a corresponding domain name) is available.\n",
       "*   **Target Audience:** Consider the aesthetic and lifestyle of your ideal customer.\n",
       "*   **Memorability:**  Is it easy to remember and pronounce?\n",
       "*   **Branding:** Does it fit the overall vibe you want to create for your shop?\n",
       "*   **Keep it short and sweet:** Easier to remember and say.\n",
       "\n",
       "Good luck!\n"
      ],
      "text/plain": [
       "<IPython.core.display.Markdown object>"
      ]
     },
     "metadata": {},
     "output_type": "display_data"
    }
   ],
   "source": [
    "prompt = \"Suggest a name for a flower shop that sells bouquets of dried flowers\"\n",
    "\n",
    "response = client.models.generate_content(model=MODEL_ID, contents=prompt)\n",
    "display(Markdown(response.text))"
   ]
  },
  {
   "cell_type": "markdown",
   "metadata": {
    "id": "eXTAvdOHY0OC"
   },
   "source": [
    "### Be specific, and well-defined"
   ]
  },
  {
   "cell_type": "markdown",
   "metadata": {
    "id": "FTH4GEIgY1dp"
   },
   "source": [
    "Suppose that you want to brainstorm creative ways to describe Earth."
   ]
  },
  {
   "cell_type": "markdown",
   "metadata": {
    "id": "o5BmXBiGY4KC"
   },
   "source": [
    "🛑 The prompt below might be a bit too generic (which is certainly OK if you'd like to ask a generic question!)"
   ]
  },
  {
   "cell_type": "code",
   "execution_count": 8,
   "metadata": {
    "id": "eHBaMvv7Y6mR",
    "tags": []
   },
   "outputs": [
    {
     "data": {
      "text/markdown": [
       "Okay, let's delve into the fascinating details of our home planet, Earth!\n",
       "\n",
       "**The Basics:**\n",
       "\n",
       "*   **Name:** Earth (from the Old English word \"eorþe,\" meaning ground or soil)\n",
       "*   **Position:** Third planet from the Sun\n",
       "*   **Diameter:** Approximately 12,742 kilometers (7,918 miles)\n",
       "*   **Circumference:** Approximately 40,075 kilometers (24,901 miles)\n",
       "*   **Mass:** Approximately 5.97 × 10^24 kilograms\n",
       "*   **Orbit:**  Nearly circular, taking about 365.25 days to complete one revolution around the Sun (hence, leap years!). The orbit is slightly elliptical.\n",
       "*   **Rotation:**  Completes one rotation on its axis in approximately 24 hours (defining our day).  The tilt of Earth's axis (about 23.5 degrees) is responsible for our seasons.\n",
       "*   **Atmosphere:** Primarily composed of nitrogen (78%) and oxygen (21%), with trace amounts of argon, carbon dioxide, and other gases.  The atmosphere protects us from harmful solar radiation and helps regulate the planet's temperature.\n",
       "*   **Magnetic Field:** Generated by the movement of molten iron in Earth's outer core.  This field protects us from the solar wind, a stream of charged particles emitted by the Sun.\n",
       "\n",
       "**Key Features and Characteristics:**\n",
       "\n",
       "*   **Geologically Active:** Earth is a dynamic planet with plate tectonics, volcanic activity, and earthquakes.  The Earth's crust is divided into several plates that are constantly moving, causing these geological phenomena.\n",
       "*   **Water:**  Unique in our solar system for having liquid water on its surface.  Water covers about 71% of the Earth's surface in the form of oceans, lakes, rivers, and ice.\n",
       "*   **Life:**  As far as we know, Earth is the only planet in the universe that harbors life. The presence of liquid water, a suitable atmosphere, and a stable energy source (the Sun) have allowed life to evolve and thrive in a vast array of forms.\n",
       "*   **Structure:** Earth has a layered structure:\n",
       "    *   **Crust:** The outermost solid layer, divided into oceanic and continental crust.\n",
       "    *   **Mantle:** A thick layer of mostly solid rock beneath the crust.\n",
       "    *   **Outer Core:** A liquid layer composed mostly of iron and nickel.\n",
       "    *   **Inner Core:** A solid sphere composed mostly of iron and nickel.\n",
       "*   **One Moon:** Earth has one natural satellite, the Moon.\n",
       "\n",
       "**Unique Aspects of Earth:**\n",
       "\n",
       "*   **Plate Tectonics:** This process, where Earth's lithosphere is divided into plates that move and interact, is a major driver of geological activity and plays a crucial role in the carbon cycle.\n",
       "*   **The Biosphere:** The interconnected web of all living organisms on Earth, interacting with the atmosphere, hydrosphere, and lithosphere.\n",
       "*   **Habitable Zone:** Earth resides within the Sun's \"habitable zone,\" the region around a star where temperatures allow for liquid water to exist on a planet's surface.\n",
       "*   **The Goldilocks Planet:** Earth is often referred to as the \"Goldilocks planet\" because it has just the right conditions for life – not too hot, not too cold, but just right.\n",
       "\n",
       "**Earth in Relation to the Solar System:**\n",
       "\n",
       "*   **Inner, Rocky Planet:** Earth is one of the four inner, rocky planets in our solar system (along with Mercury, Venus, and Mars).\n",
       "*   **Part of the Solar System:** Earth is part of a larger system that includes the Sun, other planets, asteroids, comets, and other celestial bodies, all bound together by gravity.\n",
       "\n",
       "**Human Impact:**\n",
       "\n",
       "*   **Environmental Concerns:** Human activities, such as burning fossil fuels, deforestation, and pollution, are significantly impacting the Earth's environment, leading to climate change, loss of biodiversity, and other problems.\n",
       "*   **Resource Depletion:** Our increasing demand for resources is putting a strain on the planet's natural resources, including water, minerals, and fossil fuels.\n",
       "*   **Space Exploration:** Humans have been exploring space, including sending probes and astronauts to the Moon, and planning for future missions to other planets.\n",
       "\n",
       "**Why Earth Matters:**\n",
       "\n",
       "*   **Our Home:** Earth is our only known home, and it provides everything we need to survive.\n",
       "*   **Biodiversity:** Earth is home to an incredible diversity of life, which is essential for maintaining healthy ecosystems.\n",
       "*   **Resources:** Earth provides us with essential resources, such as water, food, and energy.\n",
       "*   **Scientific Exploration:** Earth is a fascinating planet to study, and it provides us with insights into the history of our solar system and the evolution of life.\n",
       "\n",
       "**In summary, Earth is a unique and dynamic planet with a complex history and a rich diversity of life.  Understanding Earth and our impact on it is crucial for ensuring a sustainable future.**\n",
       "\n",
       "Do you have any specific aspects of Earth you'd like to know more about?  For example, we could delve into:\n",
       "\n",
       "*   The history of Earth\n",
       "*   The formation of the Moon\n",
       "*   Specific geological features (e.g., the Grand Canyon, the Himalayas)\n",
       "*   Climate change and its impacts\n",
       "*   Specific ecosystems (e.g., rainforests, coral reefs)\n",
       "*   Human exploration of Earth and space\n"
      ],
      "text/plain": [
       "<IPython.core.display.Markdown object>"
      ]
     },
     "metadata": {},
     "output_type": "display_data"
    }
   ],
   "source": [
    "prompt = \"Tell me about Earth\"\n",
    "\n",
    "response = client.models.generate_content(model=MODEL_ID, contents=prompt)\n",
    "display(Markdown(response.text))"
   ]
  },
  {
   "cell_type": "markdown",
   "metadata": {
    "id": "4iyvEbteZnFL"
   },
   "source": [
    "✅ Recommended. The prompt below is specific and well-defined."
   ]
  },
  {
   "cell_type": "code",
   "execution_count": 9,
   "metadata": {
    "id": "JQ80z8urZnne",
    "tags": []
   },
   "outputs": [
    {
     "data": {
      "text/markdown": [
       "Okay, here's a list of factors that make Earth unique compared to other planets we currently know of, keeping in mind that our knowledge is constantly evolving as we discover more exoplanets:\n",
       "\n",
       "**Key Factors Related to Life & Habitability:**\n",
       "\n",
       "*   **Liquid Water on the Surface:** This is perhaps the most significant factor. Earth is the only known planet with stable bodies of liquid water on its surface. Water is essential for life as we know it, acting as a solvent, transport medium, and participant in many biochemical reactions.\n",
       "*   **Oxygen-Rich Atmosphere:** Earth's atmosphere is unique in its high concentration of free oxygen (around 21%). This oxygen is primarily produced by photosynthetic organisms (plants and algae) and is vital for complex life forms that rely on aerobic respiration.  While other planets may have trace amounts of oxygen, none have it in such abundance.\n",
       "*   **Ozone Layer:**  The ozone layer in Earth's stratosphere filters out harmful ultraviolet (UV) radiation from the Sun. This shielding allows life to thrive on land and in shallow waters.\n",
       "*   **Plate Tectonics:** Earth is the only known planet in our solar system with active plate tectonics. This process recycles materials between the Earth's interior and surface, regulates the carbon cycle (crucial for climate stability), and contributes to the formation of continents and mountain ranges.\n",
       "*   **Strong Magnetic Field:** Generated by the Earth's molten iron core, the magnetic field deflects the solar wind, a stream of charged particles from the Sun that can strip away a planet's atmosphere and damage DNA.\n",
       "*   **Stable Climate:**  Earth's climate, while subject to natural fluctuations, has been relatively stable over long periods, allowing life to evolve and flourish. Factors contributing to this stability include the carbon cycle, the presence of oceans, and the Earth's axial tilt.\n",
       "\n",
       "**Physical Characteristics & Location:**\n",
       "\n",
       "*   **Goldilocks Zone:** Earth resides within the \"habitable zone\" or \"Goldilocks zone\" around our Sun. This means it's at the right distance where temperatures are suitable for liquid water to exist on the surface.\n",
       "*   **Size and Mass:** Earth's size and mass are optimal for retaining a substantial atmosphere and liquid water, yet not so massive that it becomes a gas giant.  The gravity is sufficient to hold onto the atmosphere but not so strong as to crush surface features.\n",
       "*   **Single Large Moon:** Earth has a relatively large moon that stabilizes Earth's axial tilt, preventing extreme climate variations. The Moon also influences tides, which may have played a role in the origin of life.\n",
       "\n",
       "**Biological Factors:**\n",
       "\n",
       "*   **Abundance of Life:**  Earth is the only known planet to harbor life.  This includes a vast diversity of organisms, from single-celled bacteria to complex multicellular creatures.\n",
       "*   **Complex Ecosystems:**  Earth features intricate and interconnected ecosystems that support a wide range of life forms. These ecosystems are characterized by complex food webs, nutrient cycles, and symbiotic relationships.\n",
       "*   **Photosynthesis:** The process of photosynthesis, which converts sunlight into energy and releases oxygen, is a defining characteristic of Earth's biosphere.\n",
       "*   **Intelligent Life and Technology:**  Earth is the only planet we know of with a species capable of advanced technology, communication, and scientific inquiry.\n",
       "\n",
       "**Important Considerations:**\n",
       "\n",
       "*   **Limited Data on Exoplanets:**  It's crucial to remember that our knowledge of exoplanets is still limited. We have only observed a small fraction of the planets in our galaxy, and our ability to characterize them is still developing.  It's possible that planets with similar characteristics to Earth exist, but we haven't found them yet.\n",
       "*   **Definition of \"Unique\":**  What constitutes \"unique\" is somewhat subjective.  Some of the features listed above may exist on other planets to some degree, but the combination of all these factors makes Earth stand out.\n",
       "*   **Evolving Understanding of Life:**  Our understanding of what constitutes \"life\" is constantly evolving.  It's possible that life could exist on other planets in forms that are radically different from what we know.\n",
       "\n",
       "In summary, Earth's unique combination of liquid water, an oxygen-rich atmosphere, plate tectonics, a strong magnetic field, stable climate, and the presence of life sets it apart from other planets we've discovered so far. However, the search for habitable exoplanets is ongoing, and our understanding of planetary diversity is constantly expanding.\n"
      ],
      "text/plain": [
       "<IPython.core.display.Markdown object>"
      ]
     },
     "metadata": {},
     "output_type": "display_data"
    }
   ],
   "source": [
    "prompt = \"Generate a list of ways that makes Earth unique compared to other planets\"\n",
    "\n",
    "response = client.models.generate_content(model=MODEL_ID, contents=prompt)\n",
    "display(Markdown(response.text))"
   ]
  },
  {
   "cell_type": "markdown",
   "metadata": {
    "id": "R5kmfZYHZsJ7"
   },
   "source": [
    "### Ask one task at a time"
   ]
  },
  {
   "cell_type": "markdown",
   "metadata": {
    "id": "rsAezxeYZuUN"
   },
   "source": [
    "🛑 Not recommended. The prompt below has two parts to the question that could be asked separately."
   ]
  },
  {
   "cell_type": "code",
   "execution_count": 14,
   "metadata": {
    "id": "ElywPXpuZtWf",
    "tags": []
   },
   "outputs": [
    {
     "data": {
      "text/markdown": [
       "Okay, let's tackle these two very different questions!\n",
       "\n",
       "**Best Method of Boiling Water**\n",
       "\n",
       "There isn't one single \"best\" method for boiling water, as the ideal choice depends on your priorities: speed, energy efficiency, cost, and convenience. Here's a breakdown:\n",
       "\n",
       "*   **Electric Kettle:**\n",
       "    *   **Pros:** Very fast (especially for smaller amounts), energy-efficient (heats only the water needed), convenient (auto shut-off), safe (often cordless).\n",
       "    *   **Cons:** Requires electricity, can be slightly more expensive upfront than other options.\n",
       "    *   **Verdict:** **Often the overall best choice for everyday use when speed and efficiency are important.**\n",
       "\n",
       "*   **Stovetop Kettle:**\n",
       "    *   **Pros:** Inexpensive, works with gas or electric stoves, no electronics to break.\n",
       "    *   **Cons:** Slower than electric kettles, requires monitoring, can be less energy-efficient (especially on electric stoves).\n",
       "    *   **Verdict:** A good option if you already have a stove and don't want to invest in an electric kettle. Whistling kettles are helpful as they alert you when the water boils.\n",
       "\n",
       "*   **Stovetop Pot (without a lid):**\n",
       "    *   **Pros:** Simplest method (just a pot and a heat source).\n",
       "    *   **Cons:** Very slow, very inefficient (lots of heat lost to the air), requires constant monitoring.\n",
       "    *   **Verdict:** Only recommended if you don't have a kettle and only need to boil a large quantity of water, but even then, a lid is helpful.\n",
       "\n",
       "*   **Microwave:**\n",
       "    *   **Pros:** Relatively fast for small amounts, convenient.\n",
       "    *   **Cons:** Can be uneven heating (superheating is a risk!), not ideal for large quantities, not very energy-efficient.  Superheating can cause the water to violently erupt when disturbed (e.g., when you add a teabag). Use microwave-safe containers only.\n",
       "    *   **Verdict:** Suitable for a quick cup of tea or coffee, but not the best for larger volumes or general use.  Stirring after microwaving helps prevent superheating.\n",
       "\n",
       "*   **Induction Cooktop:**\n",
       "    *   **Pros:** Very fast, energy-efficient (heats the pot directly), precise temperature control (with induction-ready cookware).\n",
       "    *   **Cons:** Requires induction-ready cookware, cooktop can be expensive.\n",
       "    *   **Verdict:** Excellent if you already have an induction cooktop and compatible cookware.\n",
       "\n",
       "**In summary:** For most people, an electric kettle is the best all-around choice due to its speed, energy efficiency, and convenience.\n",
       "\n",
       "---\n",
       "\n",
       "**Why the Sky is Blue**\n",
       "\n",
       "The sky is blue due to a phenomenon called **Rayleigh scattering**. Here's the simplified explanation:\n",
       "\n",
       "1.  **Sunlight:** Sunlight is actually composed of all the colors of the rainbow.\n",
       "\n",
       "2.  **Entering the Atmosphere:** When sunlight enters the Earth's atmosphere, it collides with tiny air molecules (mostly nitrogen and oxygen).\n",
       "\n",
       "3.  **Scattering:** These air molecules cause the sunlight to scatter in different directions.\n",
       "\n",
       "4.  **Wavelength and Scattering:** The amount of scattering depends on the wavelength (color) of the light. Shorter wavelengths (like blue and violet) are scattered much more strongly than longer wavelengths (like red and orange).\n",
       "\n",
       "5.  **Why Not Violet?** While violet is scattered even *more* than blue, there are a couple of reasons why we see a blue sky:\n",
       "    *   **Sun's Output:** The sun emits slightly less violet light than blue light.\n",
       "    *   **Human Eye Sensitivity:** Our eyes are more sensitive to blue than violet.\n",
       "\n",
       "6.  **The Result:** Because blue light is scattered more effectively than other colors, it is scattered all over the sky. This scattered blue light is what we see when we look up on a clear day.\n",
       "\n",
       "**In essence, the sky is blue because the air molecules in the atmosphere scatter blue light from the sun more than they scatter other colors.**\n",
       "\n",
       "---\n",
       "Let me know if you have any further questions!\n"
      ],
      "text/plain": [
       "<IPython.core.display.Markdown object>"
      ]
     },
     "metadata": {},
     "output_type": "display_data"
    }
   ],
   "source": [
    "prompt = \"What's the best method of boiling water and why is the sky blue?\"\n",
    "\n",
    "response = client.models.generate_content(model=MODEL_ID, contents=prompt)\n",
    "display(Markdown(response.text))"
   ]
  },
  {
   "cell_type": "markdown",
   "metadata": {
    "id": "ejzahazBZ8vk"
   },
   "source": [
    "✅ Recommended. The prompts below asks one task a time."
   ]
  },
  {
   "cell_type": "code",
   "execution_count": 15,
   "metadata": {
    "id": "C5ckp2F0Z_Ba",
    "tags": []
   },
   "outputs": [
    {
     "data": {
      "text/markdown": [
       "The \"best\" method for boiling water depends on your priorities. Here's a breakdown based on common considerations:\n",
       "\n",
       "**For Speed:**\n",
       "\n",
       "*   **Electric Kettle:**  Generally the fastest, especially for smaller amounts of water.  They are efficient because they directly heat the water with an element immersed in it.  They also often have automatic shutoff features.\n",
       "*   **Induction Cooktop:**  Can be as fast as an electric kettle, or even faster.  Induction is very efficient because it heats the pot directly, rather than heating the cooktop surface first.\n",
       "\n",
       "**For Energy Efficiency:**\n",
       "\n",
       "*   **Electric Kettle:** More efficient than stovetop methods, especially for smaller volumes, as they are designed to heat the water directly with minimal heat loss.\n",
       "*   **Induction Cooktop:** Very efficient as mentioned above.\n",
       "*   **Microwave:** Can be energy-efficient *if* you only boil the exact amount of water you need. However, microwaves can sometimes boil unevenly, leading to \"superheated\" water, which can be dangerous (it can erupt violently when disturbed). Also, microwaves can only be used with microwave-safe containers.\n",
       "*   **Stovetop (Gas or Electric):** Least efficient due to heat loss to the surrounding air. Gas stoves can be particularly wasteful because a lot of heat escapes around the pot.\n",
       "\n",
       "**For Convenience & Simplicity:**\n",
       "\n",
       "*   **Electric Kettle:**  Easy to use, just fill with water and press a button.  Often have automatic shutoff.\n",
       "*   **Microwave:**  Quick and easy if you're boiling a small amount for a single cup.\n",
       "*   **Stovetop (Gas or Electric):**  Most homes have a stovetop, so it's always an option.  Requires a bit more attention as you need to watch for boiling and turn off the heat.\n",
       "\n",
       "**For Versatility:**\n",
       "\n",
       "*   **Stovetop (Gas or Electric):**  You can use any heat-safe pot or pan on a stovetop, giving you the most flexibility.\n",
       "*   **Induction Cooktop:** Requires induction-compatible cookware.\n",
       "\n",
       "**For Camping/Outdoors:**\n",
       "\n",
       "*   **Camping Stove:** Portable and designed for outdoor use.\n",
       "*   **Fire (with a pot):**  The classic, but requires skill and attention to build and manage the fire safely.  Slowest method.\n",
       "\n",
       "**For Safety:**\n",
       "\n",
       "*   **Electric Kettle:**  Often have automatic shutoff and boil-dry protection.\n",
       "*   **Induction Cooktop:** The surface stays relatively cool compared to a traditional electric or gas cooktop.\n",
       "*   **Stovetop (Gas or Electric):** Requires the most caution, as the pot and the stovetop surface get very hot.\n",
       "*   **Microwave:** Be aware of potential superheating. Use microwave-safe containers.\n",
       "\n",
       "**In Summary:**\n",
       "\n",
       "*   **Fastest & Most Convenient (Small Quantities):** Electric Kettle or Induction Cooktop.\n",
       "*   **Most Energy Efficient (Small Quantities):** Electric Kettle or Induction Cooktop\n",
       "*   **Most Versatile:** Stovetop (Gas or Electric)\n",
       "*   **Outdoors:** Camping Stove\n",
       "\n",
       "**Important Considerations:**\n",
       "\n",
       "*   **Volume of Water:** For small amounts (1-2 cups), an electric kettle is often the best choice. For large amounts, a stovetop might be more practical.\n",
       "*   **Your Specific Needs:**  Consider how quickly you need the water, your budget, and your existing equipment.\n",
       "\n",
       "Ultimately, the \"best\" method depends on your individual needs and preferences. Choose the one that best suits your situation.\n"
      ],
      "text/plain": [
       "<IPython.core.display.Markdown object>"
      ]
     },
     "metadata": {},
     "output_type": "display_data"
    }
   ],
   "source": [
    "prompt = \"What's the best method of boiling water?\"\n",
    "\n",
    "response = client.models.generate_content(model=MODEL_ID, contents=prompt)\n",
    "display(Markdown(response.text))"
   ]
  },
  {
   "cell_type": "code",
   "execution_count": 16,
   "metadata": {
    "id": "KwUzhud4aA89",
    "tags": []
   },
   "outputs": [
    {
     "data": {
      "text/markdown": [
       "The sky is blue due to a phenomenon called **Rayleigh scattering**. Here's a breakdown:\n",
       "\n",
       "*   **Sunlight and Colors:** Sunlight appears white to us, but it's actually made up of all the colors of the rainbow.\n",
       "\n",
       "*   **Entering the Atmosphere:** When sunlight enters the Earth's atmosphere, it collides with tiny air molecules (mostly nitrogen and oxygen).\n",
       "\n",
       "*   **Scattering of Light:** This collision causes the light to scatter in different directions.\n",
       "\n",
       "*   **Rayleigh Scattering:** Rayleigh scattering is more effective at scattering shorter wavelengths of light. Blue and violet light have shorter wavelengths than other colors like red and orange.\n",
       "\n",
       "*   **Why Blue Dominates:** While violet is scattered even more than blue, the sky appears blue to our eyes for a couple of reasons:\n",
       "    *   The sun emits slightly less violet light than blue light.\n",
       "    *   Our eyes are more sensitive to blue light than violet light.\n",
       "\n",
       "*   **Therefore:** Because blue light is scattered more effectively than other colors, it's scattered all over the sky, making the sky appear blue from our perspective.\n",
       "\n",
       "**Think of it like this:** Imagine throwing a handful of small marbles (blue light) and larger marbles (red light) at a bumpy surface. The smaller marbles are more likely to bounce off in different directions, while the larger marbles are more likely to continue straight through.\n",
       "\n",
       "**Why isn't the sunset blue too?**\n",
       "\n",
       "Sunsets and sunrises appear red and orange because the sunlight has to travel through more of the atmosphere to reach our eyes. This means that most of the blue light has already been scattered away by the time it reaches us, leaving the longer wavelengths (red and orange) to dominate.\n"
      ],
      "text/plain": [
       "<IPython.core.display.Markdown object>"
      ]
     },
     "metadata": {},
     "output_type": "display_data"
    }
   ],
   "source": [
    "prompt = \"Why is the sky blue?\"\n",
    "\n",
    "response = client.models.generate_content(model=MODEL_ID, contents=prompt)\n",
    "display(Markdown(response.text))"
   ]
  },
  {
   "cell_type": "markdown",
   "metadata": {
    "id": "PJIL2RTQaGcT"
   },
   "source": [
    "### Watch out for hallucinations"
   ]
  },
  {
   "cell_type": "markdown",
   "metadata": {
    "id": "8Y8kYxrSaHE9"
   },
   "source": [
    "Although LLMs have been trained on a large amount of data, they can generate text containing statements not grounded in truth or reality; these responses from the LLM are often referred to as \"hallucinations\" due to their limited memorization capabilities. Note that simply prompting the LLM to provide a citation isn't a fix to this problem, as there are instances of LLMs providing false or inaccurate citations. Dealing with hallucinations is a fundamental challenge of LLMs and an ongoing research area, so it is important to be cognizant that LLMs may seem to give you confident, correct-sounding statements that are in fact incorrect.\n",
    "\n",
    "Note that if you intend to use LLMs for the creative use cases, hallucinating could actually be quite useful."
   ]
  },
  {
   "cell_type": "markdown",
   "metadata": {
    "id": "8NY5nAGeaJYS"
   },
   "source": [
    "Try the prompt like the one below repeatedly. We set the temperature to `1.0` so that it takes more risks in its choices. It's possible that it may provide an inaccurate, but confident answer."
   ]
  },
  {
   "cell_type": "code",
   "execution_count": 28,
   "metadata": {
    "id": "QALPjEILaM62",
    "tags": []
   },
   "outputs": [
    {
     "data": {
      "text/markdown": [
       "Today is Sunday, October 15, 2023.\n"
      ],
      "text/plain": [
       "<IPython.core.display.Markdown object>"
      ]
     },
     "metadata": {},
     "output_type": "display_data"
    }
   ],
   "source": [
    "generation_config = GenerateContentConfig(temperature=1.0)\n",
    "\n",
    "prompt = \"What day is it today?\"\n",
    "\n",
    "response = client.models.generate_content(model=MODEL_ID, contents=prompt)\n",
    "display(Markdown(response.text))"
   ]
  },
  {
   "cell_type": "markdown",
   "metadata": {
    "id": "BRkwzbgRbhKt"
   },
   "source": [
    "Since LLMs do not have access to real-time information without further integrations, you may have noticed it hallucinates what day it is today in some of the outputs."
   ]
  },
  {
   "cell_type": "markdown",
   "metadata": {},
   "source": [
    "## Reduce Output Variability"
   ]
  },
  {
   "cell_type": "markdown",
   "metadata": {
    "id": "3c811e310d02"
   },
   "source": [
    "### Using system instructions to guardrail the model from irrelevant responses\n",
    "\n",
    "How can we attempt to reduce the chances of irrelevant responses and hallucinations?\n",
    "\n",
    "One way is to provide the LLM with [system instructions](https://cloud.google.com/vertex-ai/generative-ai/docs/multimodal/send-chat-prompts-gemini#system-instructions).\n",
    "\n",
    "Let's see how system instructions works and how you can use them to reduce hallucinations or irrelevant questions for a travel chatbot.\n",
    "\n",
    "Suppose we ask a simple question about one of Italy's most famous tourist spots."
   ]
  },
  {
   "cell_type": "code",
   "execution_count": 29,
   "metadata": {
    "id": "rB6zJU76biFK",
    "tags": []
   },
   "outputs": [
    {
     "data": {
      "text/markdown": [
       "The best place for sightseeing in Milan, Italy is the Duomo di Milano. It is the city's cathedral and is one of the largest in the world. The rooftop offers stunning views of the city.\n"
      ],
      "text/plain": [
       "<IPython.core.display.Markdown object>"
      ]
     },
     "metadata": {},
     "output_type": "display_data"
    }
   ],
   "source": [
    "generation_config = GenerateContentConfig(temperature=1.0)\n",
    "\n",
    "chat = client.chats.create(\n",
    "    model=MODEL_ID,\n",
    "    config=GenerateContentConfig(\n",
    "        system_instruction=[\n",
    "            \"Hello! You are an AI chatbot for a travel web site.\",\n",
    "            \"Your mission is to provide helpful queries for travelers.\",\n",
    "            \"Remember that before you answer a question, you must check to see if it complies with your mission.\",\n",
    "            \"If not, you can say, Sorry I can't answer that question.\",\n",
    "        ]\n",
    "    ),\n",
    ")\n",
    "\n",
    "prompt = \"What is the best place for sightseeing in Milan, Italy?\"\n",
    "\n",
    "response = chat.send_message(prompt)\n",
    "display(Markdown(response.text))"
   ]
  },
  {
   "cell_type": "markdown",
   "metadata": {
    "id": "WZa-Qcf9cF4A"
   },
   "source": [
    "Now let us pretend to be a user asks the chatbot a question that is unrelated to travel."
   ]
  },
  {
   "cell_type": "code",
   "execution_count": 30,
   "metadata": {
    "id": "AZKBIDr2cGnu",
    "tags": []
   },
   "outputs": [
    {
     "data": {
      "text/markdown": [
       "The best place for sightseeing in Milan, Italy is the Duomo di Milano. It is the city's cathedral and is one of the largest in the world. The rooftop offers stunning views of the city.\n"
      ],
      "text/plain": [
       "<IPython.core.display.Markdown object>"
      ]
     },
     "metadata": {},
     "output_type": "display_data"
    }
   ],
   "source": [
    "prompt = \"What is the best place for sightseeing in Milan, Italy?\"\n",
    "\n",
    "response = chat.send_message(prompt)\n",
    "display(Markdown(response.text))"
   ]
  },
  {
   "cell_type": "markdown",
   "metadata": {
    "id": "JiUYIhwpctCy"
   },
   "source": [
    "You can see that this way, a guardrail in the prompt prevented the chatbot from veering off course."
   ]
  },
  {
   "cell_type": "markdown",
   "metadata": {
    "id": "ZuuDhA37cvmP"
   },
   "source": [
    "### Turn generative tasks into classification tasks to reduce output variability"
   ]
  },
  {
   "cell_type": "markdown",
   "metadata": {
    "id": "kUCUrsUzczmb"
   },
   "source": [
    "#### Generative tasks lead to higher output variability"
   ]
  },
  {
   "cell_type": "markdown",
   "metadata": {
    "id": "a1xASHAkc46n"
   },
   "source": [
    "The prompt below results in an open-ended response, useful for brainstorming, but response is highly variable."
   ]
  },
  {
   "cell_type": "code",
   "execution_count": 31,
   "metadata": {
    "id": "nPfXQWIacwRf",
    "tags": []
   },
   "outputs": [
    {
     "data": {
      "text/markdown": [
       "Okay, here are a few programming project ideas suitable for high school students, ranging in difficulty and focusing on different skill sets. I'll also provide resources and ways to scale them up or down based on your comfort level.\n",
       "\n",
       "**Beginner-Friendly (Focus on foundational concepts):**\n",
       "\n",
       "1.  **Text-Based Adventure Game:**\n",
       "\n",
       "    *   **Description:** Create a simple text-based adventure where the user makes choices that affect the story. Think of it like a \"Choose Your Own Adventure\" book.\n",
       "    *   **Skills Reinforced:**  `if/else` statements, input/output, string manipulation, variables, basic logic, flow control.\n",
       "    *   **Languages:** Python (easiest), Java (a bit more structured), C++ (more challenging for beginners, but good practice).\n",
       "    *   **Example Structure:**\n",
       "\n",
       "        ```python\n",
       "        # Python example\n",
       "        print(\"You are standing in a dark forest.\")\n",
       "        print(\"A path leads to the north and east.\")\n",
       "        choice = input(\"Which way do you go? (north/east): \")\n",
       "\n",
       "        if choice == \"north\":\n",
       "            print(\"You encounter a friendly gnome...\")\n",
       "            # ... more story based on this choice\n",
       "        elif choice == \"east\":\n",
       "            print(\"You fall into a pit...\")\n",
       "            # ... more story based on this choice\n",
       "        else:\n",
       "            print(\"Invalid choice. You stay put.\")\n",
       "        ```\n",
       "    *   **Scaling Up:**\n",
       "        *   Add a scoring system or inventory.\n",
       "        *   Implement multiple endings.\n",
       "        *   Use functions to organize your code.\n",
       "        *   Create a simple map or state management system.\n",
       "    *   **Resources:**\n",
       "        *   Python tutorials for beginners: [https://www.w3schools.com/python/](https://www.w3schools.com/python/)\n",
       "        *   \"Automate the Boring Stuff with Python\" (free online): [https://automatetheboringstuff.com/](https://automatetheboringstuff.com/) (covers basics well)\n",
       "\n",
       "2.  **Simple Calculator:**\n",
       "\n",
       "    *   **Description:** Create a calculator that performs basic arithmetic operations (+, -, *, /).\n",
       "    *   **Skills Reinforced:** Input/output, `if/else` statements or `switch` statements, data types (integers, floats), handling user input (including error checking).\n",
       "    *   **Languages:** Python, Java, C++, JavaScript (for a web-based calculator).\n",
       "    *   **Scaling Up:**\n",
       "        *   Add more advanced functions (square root, exponentiation, trigonometry).\n",
       "        *   Implement order of operations (PEMDAS/BODMAS).\n",
       "        *   Create a graphical user interface (GUI) using Tkinter (Python), Swing (Java), or HTML/CSS/JavaScript.\n",
       "    *   **Resources:**\n",
       "        *   Language-specific tutorials on user input and basic calculations.\n",
       "        *   GUI tutorials for your chosen language (search for \"Tkinter tutorial\", \"Java Swing tutorial\", etc.).\n",
       "\n",
       "**Intermediate Level (Focus on data structures, algorithms, and more complex logic):**\n",
       "\n",
       "3.  **To-Do List Application:**\n",
       "\n",
       "    *   **Description:** Build a program that allows users to create, read, update, and delete (CRUD) to-do items.\n",
       "    *   **Skills Reinforced:** Lists (or other data structures like dictionaries/hashmaps), file input/output (to save the list), functions, user input, loops, program structure.\n",
       "    *   **Languages:** Python, Java, C++, JavaScript (for a web-based list).\n",
       "    *   **Scaling Up:**\n",
       "        *   Add due dates and priority levels.\n",
       "        *   Implement sorting and filtering.\n",
       "        *   Use a database (like SQLite or a simple cloud-based database) to store the to-do items persistently.\n",
       "        *   Create a GUI.\n",
       "    *   **Resources:**\n",
       "        *   Tutorials on lists and dictionaries in your chosen language.\n",
       "        *   File I/O tutorials.\n",
       "        *   Database tutorials (if you choose to use one).\n",
       "\n",
       "4.  **Number Guessing Game with Difficulty Levels:**\n",
       "\n",
       "    *   **Description:**  The computer generates a random number, and the user has to guess it.  Implement difficulty levels that change the range of numbers and the number of guesses allowed.\n",
       "    *   **Skills Reinforced:** Random number generation, loops, `if/else` statements, user input, functions, variables, conditional logic.\n",
       "    *   **Languages:** Python, Java, C++, JavaScript.\n",
       "    *   **Scaling Up:**\n",
       "        *   Keep track of high scores.\n",
       "        *   Implement a hint system (e.g., \"too high,\" \"too low,\" or more specific hints).\n",
       "        *   Allow the user to choose the range of numbers.\n",
       "        *   Implement a \"computer guesses\" mode where the user thinks of a number, and the computer tries to guess it.\n",
       "    *   **Resources:**\n",
       "        *   Random number generation functions in your chosen language.\n",
       "\n",
       "**Advanced Level (Focus on object-oriented programming, more complex algorithms, and design principles):**\n",
       "\n",
       "5.  **Simple Game (e.g., a simple platformer, a basic version of Pong, or a text-based RPG):**\n",
       "\n",
       "    *   **Description:** Develop a basic game.  Focus on a simple game mechanic that you can reasonably implement.\n",
       "    *   **Skills Reinforced:** Object-oriented programming (OOP) concepts (classes, objects, inheritance, polymorphism), game loops, event handling, basic collision detection, basic AI (if applicable), potentially graphics libraries (if not text-based).\n",
       "    *   **Languages:** Python (with Pygame), Java (with LibGDX), C++ (with SDL or SFML), C# (with Unity).\n",
       "    *   **Scaling Up:**\n",
       "        *   Add more levels, characters, enemies, and power-ups.\n",
       "        *   Improve the AI.\n",
       "        *   Add sound effects and music.\n",
       "        *   Implement multiplayer functionality.\n",
       "    *   **Resources:**\n",
       "        *   Pygame tutorials (Python): [https://www.pygame.org/docs/tut/](https://www.pygame.org/docs/tut/)\n",
       "        *   LibGDX tutorials (Java): [https://libgdx.com/wiki/start/a-simple-game](https://libgdx.com/wiki/start/a-simple-game)\n",
       "        *   SDL tutorials (C++): Search for \"SDL tutorial\"\n",
       "        *   Unity tutorials (C#): [https://learn.unity.com/](https://learn.unity.com/)\n",
       "\n",
       "6.  **Simple Data Analysis Project:**\n",
       "\n",
       "    *   **Description:**  Choose a dataset (e.g., from Kaggle or a public API) and perform some basic data analysis.\n",
       "    *   **Skills Reinforced:**  Data structures, file I/O, data cleaning, data visualization, basic statistical analysis, libraries for data manipulation (e.g., Pandas in Python).\n",
       "    *   **Languages:** Python (with Pandas, NumPy, Matplotlib, Seaborn).\n",
       "    *   **Scaling Up:**\n",
       "        *   Build a predictive model (e.g., using scikit-learn).\n",
       "        *   Create an interactive dashboard to visualize the data.\n",
       "        *   Explore more advanced statistical techniques.\n",
       "    *   **Resources:**\n",
       "        *   Pandas tutorials: [https://pandas.pydata.org/docs/getting_started/index.html](https://pandas.pydata.org/docs/getting_started/index.html)\n",
       "        *   NumPy tutorials: [https://numpy.org/doc/stable/user/absolute_beginners.html](https://numpy.org/doc/stable/user/absolute_beginners.html)\n",
       "        *   Matplotlib tutorials: [https://matplotlib.org/stable/tutorials/index.html](https://matplotlib.org/stable/tutorials/index.html)\n",
       "        *   Kaggle (for datasets and tutorials): [https://www.kaggle.com/](https://www.kaggle.com/)\n",
       "\n",
       "**General Tips for Success:**\n",
       "\n",
       "*   **Start Small:** Don't try to build the next AAA game or a fully featured application right away. Break down your project into smaller, manageable tasks.\n",
       "*   **Plan Your Project:**  Before you start coding, sketch out the basic structure of your program.  Draw diagrams, write pseudocode, or create a simple flowchart to visualize the flow of logic.\n",
       "*   **Test Your Code Frequently:**  Write small pieces of code and test them thoroughly before moving on.  This will help you catch errors early and prevent them from snowballing.\n",
       "*   **Use Version Control (Git):** Learn to use Git to track your changes and collaborate with others (if you're working in a team). GitHub, GitLab, and Bitbucket are popular platforms for hosting Git repositories.\n",
       "*   **Don't Be Afraid to Ask for Help:**  If you get stuck, don't hesitate to ask for help from teachers, classmates, or online communities (like Stack Overflow).\n",
       "*   **Document Your Code:**  Write comments to explain what your code does.  This will make it easier to understand your code later and help others understand it as well.\n",
       "*   **Have Fun!**  The most important thing is to choose a project that you're interested in and that you'll enjoy working on.\n",
       "\n",
       "**How to Choose a Project:**\n",
       "\n",
       "1.  **Consider Your Interests:**  What are you passionate about?  Can you create a program related to your hobbies, interests, or school subjects?\n",
       "2.  **Think About Your Skill Level:** Choose a project that is challenging but not overwhelming.  It's better to start with a simpler project and gradually increase the complexity as you gain experience.\n",
       "3.  **Look for Real-World Problems:**  Can you identify a problem in your school, community, or personal life that you could solve with a program?\n",
       "4.  **Set Realistic Goals:**  Be realistic about how much time you have to dedicate to the project and set achievable goals.\n",
       "\n",
       "Good luck with your programming journey!  Let me know if you have any more questions.\n"
      ],
      "text/plain": [
       "<IPython.core.display.Markdown object>"
      ]
     },
     "metadata": {},
     "output_type": "display_data"
    }
   ],
   "source": [
    "prompt = \"I'm a high school student. Recommend me a programming activity to improve my skills.\"\n",
    "\n",
    "response = client.models.generate_content(model=MODEL_ID, contents=prompt)\n",
    "display(Markdown(response.text))"
   ]
  },
  {
   "cell_type": "markdown",
   "metadata": {
    "id": "iAmm9wPYc_1o"
   },
   "source": [
    "#### Classification tasks reduces output variability"
   ]
  },
  {
   "cell_type": "markdown",
   "metadata": {
    "id": "VvRpK_0GdCpf"
   },
   "source": [
    "The prompt below results in a choice and may be useful if you want the output to be easier to control."
   ]
  },
  {
   "cell_type": "code",
   "execution_count": 32,
   "metadata": {
    "id": "kYDKh0r2dAqo",
    "tags": []
   },
   "outputs": [
    {
     "data": {
      "text/markdown": [
       "Okay, let's break down these options for a high school student looking to learn a programming language:\n",
       "\n",
       "**Recommendation: a) Learn Python**\n",
       "\n",
       "Here's why Python is generally the best choice for a high school student:\n",
       "\n",
       "*   **Beginner-Friendly Syntax:** Python is known for its clear, readable, and relatively simple syntax. It reads almost like plain English, making it easier to learn the fundamental concepts of programming without getting bogged down in complex syntax rules.\n",
       "\n",
       "*   **Versatility:** Python is incredibly versatile. You can use it for:\n",
       "    *   **Web Development:** (with frameworks like Flask or Django)\n",
       "    *   **Data Science:** A huge field with libraries like NumPy, Pandas, and Matplotlib.\n",
       "    *   **Machine Learning/AI:** TensorFlow, PyTorch, scikit-learn are popular libraries.\n",
       "    *   **Scripting and Automation:** Automating tasks on your computer.\n",
       "    *   **Game Development:** (with libraries like Pygame)\n",
       "    *   **Scientific Computing:** (used in research and academia)\n",
       "\n",
       "*   **Large and Supportive Community:** Python has a massive online community. This means there are tons of tutorials, documentation, forums, and libraries available to help you when you get stuck.  You can easily find answers to your questions and get support from experienced programmers.\n",
       "\n",
       "*   **Real-World Applications:** Python is used by major companies like Google, YouTube, Instagram, Netflix, Spotify, and many more. Learning Python can open doors to internships and future job opportunities.\n",
       "\n",
       "*   **Educational Resources:** There are abundant free and paid resources specifically designed for learning Python as a beginner. Sites like Codecademy, freeCodeCamp, and many YouTube channels offer excellent Python courses.\n",
       "\n",
       "**Why JavaScript is a good, but perhaps slightly later, choice:**\n",
       "\n",
       "*   **Frontend Web Development:** JavaScript is *essential* for creating interactive and dynamic websites.  It's the language that makes web pages respond to user actions.\n",
       "*   **Backend with Node.js:** You can also use JavaScript on the server-side with Node.js.\n",
       "*   **Large Ecosystem:** Like Python, JavaScript has a huge ecosystem of libraries and frameworks (React, Angular, Vue.js).\n",
       "\n",
       "*   **Why it's not *quite* as ideal as a first language:** The initial learning curve can be a bit steeper than Python's.  Dealing with the Document Object Model (DOM) and asynchronous programming can be challenging for beginners.  While JavaScript is powerful, it's often better to have a solid foundation in programming concepts first.\n",
       "\n",
       "**Why Fortran is generally not the best choice for a high school student (unless you have a specific need):**\n",
       "\n",
       "*   **Specialized:** Fortran is primarily used in scientific and engineering computing, particularly in areas like weather forecasting, computational fluid dynamics, and simulations.\n",
       "*   **Older Language:** While Fortran is still used and maintained, it's an older language, and its syntax can feel less intuitive compared to modern languages.\n",
       "*   **Limited General Applicability:** Unless you already know you want to go into a very specific scientific or engineering field, Fortran's applications are limited.\n",
       "*   **Smaller Community and Resources:** The community and resources available for Fortran are smaller than those for Python or JavaScript.\n",
       "\n",
       "**In summary:**\n",
       "\n",
       "Start with **Python**. It's the most beginner-friendly, versatile, and widely applicable language for someone just starting out with programming.  After you've got a good grasp of Python fundamentals, you can then consider learning **JavaScript** if you're interested in web development.  Unless you have a very specific reason (e.g., a parent or mentor who is a Fortran expert and can guide you, or a very specific scientific project in mind), **Fortran** is best left for later, if at all.\n",
       "\n",
       "Good luck with your programming journey!\n"
      ],
      "text/plain": [
       "<IPython.core.display.Markdown object>"
      ]
     },
     "metadata": {},
     "output_type": "display_data"
    }
   ],
   "source": [
    "prompt = \"\"\"I'm a high school student. Which of these activities do you suggest and why:\n",
    "a) learn Python\n",
    "b) learn JavaScript\n",
    "c) learn Fortran\n",
    "\"\"\"\n",
    "\n",
    "response = client.models.generate_content(model=MODEL_ID, contents=prompt)\n",
    "display(Markdown(response.text))"
   ]
  },
  {
   "cell_type": "markdown",
   "metadata": {
    "id": "iTd60b1GdIsx"
   },
   "source": [
    "### Improve response quality by including examples"
   ]
  },
  {
   "cell_type": "markdown",
   "metadata": {
    "id": "yJi44NejdJYE"
   },
   "source": [
    "Another way to improve response quality is to add examples in your prompt. The LLM learns in-context from the examples on how to respond. Typically, one to five examples (shots) are enough to improve the quality of responses. Including too many examples can cause the model to over-fit the data and reduce the quality of responses.\n",
    "\n",
    "Similar to classical model training, the quality and distribution of the examples is very important. Pick examples that are representative of the scenarios that you need the model to learn, and keep the distribution of the examples (e.g. number of examples per class in the case of classification) aligned with your actual distribution."
   ]
  },
  {
   "cell_type": "markdown",
   "metadata": {
    "id": "sMbLginWdOKs"
   },
   "source": [
    "#### Zero-shot prompt"
   ]
  },
  {
   "cell_type": "markdown",
   "metadata": {
    "id": "Crh2Loi2dQ0v"
   },
   "source": [
    "Below is an example of zero-shot prompting, where you don't provide any examples to the LLM within the prompt itself."
   ]
  },
  {
   "cell_type": "code",
   "execution_count": 33,
   "metadata": {
    "id": "-7myRc-SdTQ4",
    "tags": []
   },
   "outputs": [
    {
     "data": {
      "text/markdown": [
       "Sentiment: Positive\n"
      ],
      "text/plain": [
       "<IPython.core.display.Markdown object>"
      ]
     },
     "metadata": {},
     "output_type": "display_data"
    }
   ],
   "source": [
    "prompt = \"\"\"Decide whether a Tweet's sentiment is positive, neutral, or negative.\n",
    "\n",
    "Tweet: I loved the new YouTube video you made!\n",
    "Sentiment:\n",
    "\"\"\"\n",
    "\n",
    "response = client.models.generate_content(model=MODEL_ID, contents=prompt)\n",
    "display(Markdown(response.text))"
   ]
  },
  {
   "cell_type": "markdown",
   "metadata": {
    "id": "ucRtPn9SdL64"
   },
   "source": [
    "#### One-shot prompt"
   ]
  },
  {
   "cell_type": "markdown",
   "metadata": {
    "id": "rs0gQH2vdYBi"
   },
   "source": [
    "Below is an example of one-shot prompting, where you provide one example to the LLM within the prompt to give some guidance on what type of response you want."
   ]
  },
  {
   "cell_type": "code",
   "execution_count": 34,
   "metadata": {
    "id": "iEq-KxGYdaT5",
    "tags": []
   },
   "outputs": [
    {
     "data": {
      "text/markdown": [
       "Sentiment: negative\n"
      ],
      "text/plain": [
       "<IPython.core.display.Markdown object>"
      ]
     },
     "metadata": {},
     "output_type": "display_data"
    }
   ],
   "source": [
    "prompt = \"\"\"Decide whether a Tweet's sentiment is positive, neutral, or negative.\n",
    "\n",
    "Tweet: I loved the new YouTube video you made!\n",
    "Sentiment: positive\n",
    "\n",
    "Tweet: That was awful. Super boring 😠\n",
    "Sentiment:\n",
    "\"\"\"\n",
    "\n",
    "response = client.models.generate_content(model=MODEL_ID, contents=prompt)\n",
    "display(Markdown(response.text))"
   ]
  },
  {
   "cell_type": "markdown",
   "metadata": {
    "id": "JnKLjJzmdfL_"
   },
   "source": [
    "#### Few-shot prompt"
   ]
  },
  {
   "cell_type": "markdown",
   "metadata": {
    "id": "6Zv-9F5OdgI_"
   },
   "source": [
    "Below is an example of few-shot prompting, where you provide a few examples to the LLM within the prompt to give some guidance on what type of response you want."
   ]
  },
  {
   "cell_type": "code",
   "execution_count": 35,
   "metadata": {
    "id": "u37P9tG4dk9S",
    "tags": []
   },
   "outputs": [
    {
     "data": {
      "text/markdown": [
       "Sentiment: positive\n"
      ],
      "text/plain": [
       "<IPython.core.display.Markdown object>"
      ]
     },
     "metadata": {},
     "output_type": "display_data"
    }
   ],
   "source": [
    "prompt = \"\"\"Decide whether a Tweet's sentiment is positive, neutral, or negative.\n",
    "\n",
    "Tweet: I loved the new YouTube video you made!\n",
    "Sentiment: positive\n",
    "\n",
    "Tweet: That was awful. Super boring 😠\n",
    "Sentiment: negative\n",
    "\n",
    "Tweet: Something surprised me about this video - it was actually original. It was not the same old recycled stuff that I always see. Watch it - you will not regret it.\n",
    "Sentiment:\n",
    "\"\"\"\n",
    "\n",
    "response = client.models.generate_content(model=MODEL_ID, contents=prompt)\n",
    "display(Markdown(response.text))"
   ]
  },
  {
   "cell_type": "markdown",
   "metadata": {
    "id": "wDMD3xb2dvX6"
   },
   "source": [
    "#### Choosing between zero-shot, one-shot, few-shot prompting methods"
   ]
  },
  {
   "cell_type": "markdown",
   "metadata": {
    "id": "s92W0YpNdxJp"
   },
   "source": [
    "Which prompt technique to use will solely depends on your goal. The zero-shot prompts are more open-ended and can give you creative answers, while one-shot and few-shot prompts teach the model how to behave so you can get more predictable answers that are consistent with the examples provided."
   ]
  }
 ],
 "metadata": {
  "colab": {
   "name": "intro_prompt_design.ipynb",
   "toc_visible": true
  },
  "environment": {
   "kernel": "conda-base-py",
   "name": "workbench-notebooks.m129",
   "type": "gcloud",
   "uri": "us-docker.pkg.dev/deeplearning-platform-release/gcr.io/workbench-notebooks:m129"
  },
  "kernelspec": {
   "display_name": "Python 3 (ipykernel) (Local) (Local)",
   "language": "python",
   "name": "conda-base-py"
  },
  "language_info": {
   "codemirror_mode": {
    "name": "ipython",
    "version": 3
   },
   "file_extension": ".py",
   "mimetype": "text/x-python",
   "name": "python",
   "nbconvert_exporter": "python",
   "pygments_lexer": "ipython3",
   "version": "3.10.16"
  }
 },
 "nbformat": 4,
 "nbformat_minor": 4
}
